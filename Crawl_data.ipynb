{
 "cells": [
  {
   "cell_type": "markdown",
   "metadata": {},
   "source": [
    "# Thu thập dữ liệu cầu thủ từ Web\n",
    "\n",
    "---\n",
    "## Import thư viện cần thiết"
   ]
  },
  {
   "cell_type": "code",
   "execution_count": 20,
   "metadata": {},
   "outputs": [],
   "source": [
    "import numpy as np\n",
    "import pandas as pd \n",
    "from pandas import DataFrame\n",
    "import re\n",
    "import requests\n",
    "from bs4 import BeautifulSoup\n",
    "import matplotlib.pyplot as plt"
   ]
  },
  {
   "cell_type": "code",
   "execution_count": 21,
   "metadata": {},
   "outputs": [],
   "source": [
    "from selenium import webdriver\n",
    "from selenium.webdriver.common.keys import Keys\n",
    "import time"
   ]
  },
  {
   "cell_type": "code",
   "execution_count": 22,
   "metadata": {},
   "outputs": [
    {
     "name": "stdout",
     "output_type": "stream",
     "text": [
      "User-agent: *\r\n",
      "Disallow: /players/compare\n"
     ]
    }
   ],
   "source": [
    "rq = requests.get(\"https://sofifa.com/robots.txt\")\n",
    "print(rq.text)"
   ]
  },
  {
   "cell_type": "markdown",
   "metadata": {},
   "source": [
    "---\n",
    "## Click chọn các mục cần thiết từ trang web"
   ]
  },
  {
   "cell_type": "code",
   "execution_count": null,
   "metadata": {},
   "outputs": [],
   "source": [
    "# Khởi tạo web driver.\n",
    "browser = webdriver.Firefox(executable_path='./geckodriver.exe')\n",
    "browser.get(\"https://sofifa.com/players?offset=0\")\n",
    "time.sleep(10)\n",
    "\n",
    "# Tìm dropdown button\n",
    "specials = browser.find_element_by_xpath('/html/body/div[1]/div/div/div[2]/div[1]/form/div/div[1]/div/div[1]/input')\n",
    "# Click dropdown button\n",
    "specials.click()\n",
    "time.sleep(2)\n",
    "#Tìm id của dropdownlist ( id được random mỗi lần)\n",
    "col_id = browser.find_element_by_xpath('/html/body/div[1]/div/div/div[2]/div[1]/form/div/div[1]/div/div[2]/div/div[2]')\n",
    "col_id.get_attribute(\"id\")\n",
    "id = col_id.get_attribute(\"id\")\n",
    "id = id[0:len(id) - 1]\n",
    "time.sleep(5)\n",
    "\n",
    "xpathid = '//*[@id=\"'+id+'58'+'\"]'\n",
    "base_stats = browser.find_element_by_xpath(xpathid)\n",
    "base_stats.click()\n",
    "time.sleep(5)\n",
    "\n",
    "specials = browser.find_element_by_xpath('/html/body/div[1]/div/div/div[2]/div[1]/form/div/div[1]/div/div[1]/input')\n",
    "specials.click()\n",
    "time.sleep(2)\n",
    "\n",
    "xpathid = '//*[@id=\"'+id+'63'+'\"]'\n",
    "InternationalReputation = browser.find_element_by_xpath(xpathid)\n",
    "InternationalReputation.click()\n",
    "time.sleep(5)\n",
    "\n",
    "specials = browser.find_element_by_xpath('/html/body/div[1]/div/div/div[2]/div[1]/form/div/div[1]/div/div[1]/input')\n",
    "specials.click()\n",
    "time.sleep(2)\n",
    "\n",
    "xpathid = '//*[@id=\"'+id+'64'+'\"]'\n",
    "PAC = browser.find_element_by_xpath(xpathid)\n",
    "PAC.click()\n",
    "time.sleep(5)\n",
    "\n",
    "specials = browser.find_element_by_xpath('/html/body/div[1]/div/div/div[2]/div[1]/form/div/div[1]/div/div[1]/input')\n",
    "specials.click()\n",
    "time.sleep(2)\n",
    "\n",
    "xpathid = '//*[@id=\"'+id+'65'+'\"]'\n",
    "SHO = browser.find_element_by_xpath(xpathid)\n",
    "SHO.click()\n",
    "time.sleep(5)\n",
    "\n",
    "\n",
    "specials = browser.find_element_by_xpath('/html/body/div[1]/div/div/div[2]/div[1]/form/div/div[1]/div/div[1]/input')\n",
    "specials.click()\n",
    "time.sleep(2)\n",
    "\n",
    "xpathid = '//*[@id=\"'+id+'66'+'\"]'\n",
    "PAS = browser.find_element_by_xpath(xpathid)\n",
    "PAS.click()\n",
    "time.sleep(5)\n",
    "\n",
    "\n",
    "specials = browser.find_element_by_xpath('/html/body/div[1]/div/div/div[2]/div[1]/form/div/div[1]/div/div[1]/input')\n",
    "specials.click()\n",
    "time.sleep(2)\n",
    "\n",
    "xpathid = '//*[@id=\"'+id+'67'+'\"]'\n",
    "DRI = browser.find_element_by_xpath(xpathid)\n",
    "DRI.click()\n",
    "time.sleep(5)\n",
    "\n",
    "\n",
    "specials = browser.find_element_by_xpath('/html/body/div[1]/div/div/div[2]/div[1]/form/div/div[1]/div/div[1]/input')\n",
    "specials.click()\n",
    "time.sleep(2)\n",
    "\n",
    "xpathid = '//*[@id=\"'+id+'68'+'\"]'\n",
    "DEF = browser.find_element_by_xpath(xpathid)\n",
    "DEF.click()\n",
    "time.sleep(5)\n",
    "\n",
    "specials = browser.find_element_by_xpath('/html/body/div[1]/div/div/div[2]/div[1]/form/div/div[1]/div/div[1]/input')\n",
    "specials.click()\n",
    "time.sleep(2)\n",
    "\n",
    "xpathid = '//*[@id=\"'+id+'69'+'\"]'\n",
    "PHY = browser.find_element_by_xpath(xpathid)\n",
    "PHY.click()\n",
    "time.sleep(5)\n"
   ]
  },
  {
   "cell_type": "code",
   "execution_count": null,
   "metadata": {},
   "outputs": [],
   "source": [
    "# Cancel dropdownlist vì list này chặn button apply\n",
    "cancelpopup = browser.find_element_by_xpath('/html/body/div[1]/div/div/div[1]/div/table/thead/tr[1]/th[2]')\n",
    "cancelpopup.click()\n",
    "time.sleep(2)\n",
    "apply = browser.find_element_by_xpath('/html/body/div[1]/div/div/div[2]/div[1]/form/div/div[2]/button')\n",
    "apply.click()\n",
    "time.sleep(2)"
   ]
  },
  {
   "cell_type": "markdown",
   "metadata": {},
   "source": [
    "---\n",
    "## Thu thập dữ liệu"
   ]
  },
  {
   "cell_type": "code",
   "execution_count": null,
   "metadata": {},
   "outputs": [],
   "source": [
    "columns = ['ID','Name','Position', 'Overall', 'Potential','BS','IR',\n",
    "          'PAC','SHO','PAS','DRI','DEF','PHY','Value', 'Wage','TotalStats']\n",
    "\n",
    "data = DataFrame(columns = columns) # Tạo DataFrame có các cột như trên\n",
    "offset = 0;\n",
    "while True: # Duyệt các page\n",
    "    url =\"https://sofifa.com/?col=vl&sort=desc&offset=%s\" % str(offset*60)\n",
    "    browser.get(url)\n",
    "    while(\"No results found.\" in browser.page_source or 'Oops! This Page Could Not Be Found' in browser.page_source):\n",
    "        browser.get(url)\n",
    "        print('Can not find page')\n",
    "    soup = BeautifulSoup(browser.page_source, 'html.parser')\n",
    "    table_body = soup.find('tbody') # Lấy thẻ tbody\n",
    "    i=0\n",
    "    for row in table_body.findAll('tr'): # Duyệt các thẻ tr con\n",
    "        # Mỗi thẻ tr chứa thông tin của 1 cầu thủ\n",
    "        td = row.findAll('td')\n",
    "        ID=td[0].find('img').get('id')\n",
    "        pos_array = td[1].findAll('a',recursive=False)\n",
    "        count = 0\n",
    "        str_pos = []\n",
    "        for pos in pos_array:\n",
    "            count = count + 1\n",
    "            if count == 1:\n",
    "                continue\n",
    "            str_pos.append(pos.text)\n",
    "        position = ' '.join(str_pos)\n",
    "        name=row.find('div',{'class':'bp3-text-overflow-ellipsis'}).text\n",
    "        overall = td[3].text.strip() # Lấy chỉ số overall\n",
    "        potential = td[4].text.strip()        \n",
    "        value = td[6].text.strip() # Lấy giá trị cầu thủ và loại bỏ \\n\n",
    "        if value == '€0' or value == '$0' or value == '0' or offet >= 320:\n",
    "            break\n",
    "        wage=td[7].text.strip() # Lấy lương\n",
    "        totalStats=td[8].text.strip() \n",
    "        BS=td[9].text.strip()\n",
    "        IR=td[10].text.strip()\n",
    "        PAC=td[11].text.strip()\n",
    "        SHO=td[12].text.strip()\n",
    "        PAS=td[13].text.strip()\n",
    "        DRI=td[14].text.strip()\n",
    "        DEF=td[15].text.strip()\n",
    "        PHY=td[16].text.strip()\n",
    "        # Tạo DataFrame từ các attribute đã có\n",
    "        player_data = DataFrame([[ID,name,position,overall,potential,BS,IR,PAC,SHO,PAS,DRI,DEF,PHY,value,wage,totalStats]])\n",
    "        player_data.columns = columns # Đặt tên các cột\n",
    "        data = data.append(player_data, ignore_index=True) # Thêm nó vào data\n",
    "    offset+=1 # Xét trang tiếp theo\n"
   ]
  },
  {
   "cell_type": "code",
   "execution_count": null,
   "metadata": {},
   "outputs": [],
   "source": [
    "# Xóa các dòng có ID của cầu thủ trùng nhau\n",
    "data.drop_duplicates(subset='ID')"
   ]
  },
  {
   "cell_type": "code",
   "execution_count": null,
   "metadata": {},
   "outputs": [],
   "source": [
    "browser.quit()"
   ]
  },
  {
   "cell_type": "markdown",
   "metadata": {},
   "source": [
    "---\n",
    "## Ghi ra file"
   ]
  },
  {
   "cell_type": "code",
   "execution_count": null,
   "metadata": {},
   "outputs": [],
   "source": [
    "data.to_csv('final_data.csv',encoding=\"utf-8-sig\")"
   ]
  }
 ],
 "metadata": {
  "kernelspec": {
   "display_name": "Python 3",
   "language": "python",
   "name": "python3"
  },
  "language_info": {
   "codemirror_mode": {
    "name": "ipython",
    "version": 3
   },
   "file_extension": ".py",
   "mimetype": "text/x-python",
   "name": "python",
   "nbconvert_exporter": "python",
   "pygments_lexer": "ipython3",
   "version": "3.8.3"
  }
 },
 "nbformat": 4,
 "nbformat_minor": 2
}
